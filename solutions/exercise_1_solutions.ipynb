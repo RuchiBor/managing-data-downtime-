{
 "cells": [
  {
   "cell_type": "markdown",
   "metadata": {},
   "source": [
    "# Data Downtime Challenge | Exercise 1\n",
    "\n",
    "## 0. Setup"
   ]
  },
  {
   "cell_type": "code",
   "execution_count": 1,
   "metadata": {},
   "outputs": [],
   "source": [
    "%matplotlib inline\n",
    "import warnings\n",
    "warnings.filterwarnings(\"ignore\")"
   ]
  },
  {
   "cell_type": "code",
   "execution_count": 2,
   "metadata": {},
   "outputs": [],
   "source": [
    "import pandas as pd\n",
    "from datetime import datetime, timedelta\n",
    "from matplotlib import pyplot as plt"
   ]
  },
  {
   "cell_type": "code",
   "execution_count": 3,
   "metadata": {},
   "outputs": [],
   "source": [
    "import sys\n",
    "sys.path.append(\"..\")"
   ]
  },
  {
   "cell_type": "code",
   "execution_count": 4,
   "metadata": {},
   "outputs": [],
   "source": [
    "from data.utils.exercise_1 import all_days, show_reports"
   ]
  },
  {
   "cell_type": "code",
   "execution_count": 5,
   "metadata": {},
   "outputs": [],
   "source": [
    "import sqlite3\n",
    "\n",
    "conn = sqlite3.connect(\"../data/dbs/Ex1.db\")\n",
    "c = conn.cursor()"
   ]
  },
  {
   "cell_type": "markdown",
   "metadata": {},
   "source": [
    "## 1. Introduction\n",
    "\n",
    "Welcome to the Data Downtime Challenge! In this exercise, we'll learn Data Observability through practice on some sample datasets. Each subproblem will ask you to craft some `SQL` queries that help us learn about the state of our tables and identify Data Downtime issues.\n",
    "\n",
    "For these exercises, we'll be using mock astronomical data to identify habitable planets.\n",
    "\n",
    "![SegmentLocal](/tree/data/assets/planets.gif \"segment\")\n",
    "\n",
    "The `Ex1.db` database contains a single table, `EXOPLANETS`, which has information on nearly 2000 exoplanets across the Milky Way Galaxy."
   ]
  },
  {
   "cell_type": "code",
   "execution_count": 6,
   "metadata": {},
   "outputs": [
    {
     "data": {
      "text/plain": [
       "[(0, '_id', 'TEXT', 0, None, 0),\n",
       " (1, 'distance', 'REAL', 0, None, 0),\n",
       " (2, 'g', 'REAL', 0, None, 0),\n",
       " (3, 'orbital_period', 'REAL', 0, None, 0),\n",
       " (4, 'avg_temp', 'REAL', 0, None, 0),\n",
       " (5, 'date_added', 'TEXT', 0, None, 0)]"
      ]
     },
     "execution_count": 6,
     "metadata": {},
     "output_type": "execute_result"
    }
   ],
   "source": [
    "c.execute(\"PRAGMA table_info(EXOPLANETS);\")\n",
    "c.fetchall()"
   ]
  },
  {
   "cell_type": "markdown",
   "metadata": {},
   "source": [
    "A database entry in `EXOPLANETS` contains the following info:\n",
    "\n",
    "0. `_id`: A UUID corresponding to the planet.\n",
    "1. `distance`: Distance from Earth, in lightyears.\n",
    "2. `g`: Surface gravity as a multiple of $g$, the gravitational force constant.\n",
    "3. `orbital_period`: Length of a single orbital cycle in days.\n",
    "4. `avg_temp`: Average surface temperature in degrees Kelvin.\n",
    "5. `date_added`: The date our system discovered the planet and added it automatically to our databases.\n",
    "\n",
    "Note that one or more of `distance`, `g`, `orbital_period`, and `avg_temp` may be `NULL` for a given planet as a result of missing or erroneous data."
   ]
  },
  {
   "cell_type": "code",
   "execution_count": 7,
   "metadata": {},
   "outputs": [
    {
     "data": {
      "text/html": [
       "<div>\n",
       "<style scoped>\n",
       "    .dataframe tbody tr th:only-of-type {\n",
       "        vertical-align: middle;\n",
       "    }\n",
       "\n",
       "    .dataframe tbody tr th {\n",
       "        vertical-align: top;\n",
       "    }\n",
       "\n",
       "    .dataframe thead th {\n",
       "        text-align: right;\n",
       "    }\n",
       "</style>\n",
       "<table border=\"1\" class=\"dataframe\">\n",
       "  <thead>\n",
       "    <tr style=\"text-align: right;\">\n",
       "      <th></th>\n",
       "      <th>_id</th>\n",
       "      <th>distance</th>\n",
       "      <th>g</th>\n",
       "      <th>orbital_period</th>\n",
       "      <th>avg_temp</th>\n",
       "      <th>date_added</th>\n",
       "    </tr>\n",
       "  </thead>\n",
       "  <tbody>\n",
       "    <tr>\n",
       "      <th>0</th>\n",
       "      <td>c168b188-ef0c-4d6a-8cb2-f473d4154bdb</td>\n",
       "      <td>34.627304</td>\n",
       "      <td>NaN</td>\n",
       "      <td>476.480044</td>\n",
       "      <td>NaN</td>\n",
       "      <td>2020-01-01</td>\n",
       "    </tr>\n",
       "    <tr>\n",
       "      <th>1</th>\n",
       "      <td>e7b56e84-41f4-4e62-b078-01b076cea369</td>\n",
       "      <td>110.196920</td>\n",
       "      <td>2.525074</td>\n",
       "      <td>839.837817</td>\n",
       "      <td>NaN</td>\n",
       "      <td>2020-01-01</td>\n",
       "    </tr>\n",
       "    <tr>\n",
       "      <th>2</th>\n",
       "      <td>a27030a0-e4b4-4bd7-8d24-5435ed86b395</td>\n",
       "      <td>26.695795</td>\n",
       "      <td>10.276497</td>\n",
       "      <td>301.018816</td>\n",
       "      <td>NaN</td>\n",
       "      <td>2020-01-01</td>\n",
       "    </tr>\n",
       "    <tr>\n",
       "      <th>3</th>\n",
       "      <td>54f9cf85-eae9-4f29-b665-855357a14375</td>\n",
       "      <td>54.888352</td>\n",
       "      <td>NaN</td>\n",
       "      <td>173.788968</td>\n",
       "      <td>328.644125</td>\n",
       "      <td>2020-01-01</td>\n",
       "    </tr>\n",
       "    <tr>\n",
       "      <th>4</th>\n",
       "      <td>4d06ec88-f5c8-4d03-91ef-7493a12cd89e</td>\n",
       "      <td>153.264217</td>\n",
       "      <td>0.922875</td>\n",
       "      <td>200.712662</td>\n",
       "      <td>NaN</td>\n",
       "      <td>2020-01-01</td>\n",
       "    </tr>\n",
       "    <tr>\n",
       "      <th>5</th>\n",
       "      <td>e16250b8-2d9d-49f3-aaef-58eed9a8864c</td>\n",
       "      <td>7.454811</td>\n",
       "      <td>5.503701</td>\n",
       "      <td>763.561710</td>\n",
       "      <td>245.129285</td>\n",
       "      <td>2020-01-01</td>\n",
       "    </tr>\n",
       "    <tr>\n",
       "      <th>6</th>\n",
       "      <td>a0a6bf97-90d5-4686-8ccb-10753f8d335e</td>\n",
       "      <td>4.925946</td>\n",
       "      <td>0.953473</td>\n",
       "      <td>486.053323</td>\n",
       "      <td>267.786557</td>\n",
       "      <td>2020-01-01</td>\n",
       "    </tr>\n",
       "    <tr>\n",
       "      <th>7</th>\n",
       "      <td>b28b4e19-8517-4ab5-97f0-c445f1aae6c4</td>\n",
       "      <td>94.540173</td>\n",
       "      <td>7.118254</td>\n",
       "      <td>629.287426</td>\n",
       "      <td>368.859206</td>\n",
       "      <td>2020-01-01</td>\n",
       "    </tr>\n",
       "    <tr>\n",
       "      <th>8</th>\n",
       "      <td>7e34e44e-663f-491c-96c5-bb5acb8d5f1e</td>\n",
       "      <td>19.786255</td>\n",
       "      <td>3.999081</td>\n",
       "      <td>744.106326</td>\n",
       "      <td>180.445029</td>\n",
       "      <td>2020-01-01</td>\n",
       "    </tr>\n",
       "    <tr>\n",
       "      <th>9</th>\n",
       "      <td>305e8ea0-663b-4311-b6b3-4198c051c335</td>\n",
       "      <td>95.654030</td>\n",
       "      <td>0.677212</td>\n",
       "      <td>472.344447</td>\n",
       "      <td>NaN</td>\n",
       "      <td>2020-01-01</td>\n",
       "    </tr>\n",
       "  </tbody>\n",
       "</table>\n",
       "</div>"
      ],
      "text/plain": [
       "                                    _id    distance          g  \\\n",
       "0  c168b188-ef0c-4d6a-8cb2-f473d4154bdb   34.627304        NaN   \n",
       "1  e7b56e84-41f4-4e62-b078-01b076cea369  110.196920   2.525074   \n",
       "2  a27030a0-e4b4-4bd7-8d24-5435ed86b395   26.695795  10.276497   \n",
       "3  54f9cf85-eae9-4f29-b665-855357a14375   54.888352        NaN   \n",
       "4  4d06ec88-f5c8-4d03-91ef-7493a12cd89e  153.264217   0.922875   \n",
       "5  e16250b8-2d9d-49f3-aaef-58eed9a8864c    7.454811   5.503701   \n",
       "6  a0a6bf97-90d5-4686-8ccb-10753f8d335e    4.925946   0.953473   \n",
       "7  b28b4e19-8517-4ab5-97f0-c445f1aae6c4   94.540173   7.118254   \n",
       "8  7e34e44e-663f-491c-96c5-bb5acb8d5f1e   19.786255   3.999081   \n",
       "9  305e8ea0-663b-4311-b6b3-4198c051c335   95.654030   0.677212   \n",
       "\n",
       "   orbital_period    avg_temp  date_added  \n",
       "0      476.480044         NaN  2020-01-01  \n",
       "1      839.837817         NaN  2020-01-01  \n",
       "2      301.018816         NaN  2020-01-01  \n",
       "3      173.788968  328.644125  2020-01-01  \n",
       "4      200.712662         NaN  2020-01-01  \n",
       "5      763.561710  245.129285  2020-01-01  \n",
       "6      486.053323  267.786557  2020-01-01  \n",
       "7      629.287426  368.859206  2020-01-01  \n",
       "8      744.106326  180.445029  2020-01-01  \n",
       "9      472.344447         NaN  2020-01-01  "
      ]
     },
     "execution_count": 7,
     "metadata": {},
     "output_type": "execute_result"
    }
   ],
   "source": [
    "pd.read_sql_query(\"SELECT * FROM EXOPLANETS LIMIT 10\", conn)"
   ]
  },
  {
   "cell_type": "markdown",
   "metadata": {},
   "source": [
    "## 2. Exercise: Visualizing Freshness"
   ]
  },
  {
   "cell_type": "markdown",
   "metadata": {},
   "source": [
    "Grouping by the `DATE_ADDED` column can give us insight into how `EXOPLANETS` updates daily. For example, we can query for the number of new IDs added per day:"
   ]
  },
  {
   "cell_type": "code",
   "execution_count": 8,
   "metadata": {},
   "outputs": [],
   "source": [
    "SQL = \"\"\"\n",
    "SELECT\n",
    "    DATE_ADDED,\n",
    "    COUNT(*) AS ROWS_ADDED\n",
    "FROM\n",
    "    EXOPLANETS\n",
    "GROUP BY\n",
    "    DATE_ADDED\n",
    "\"\"\""
   ]
  },
  {
   "cell_type": "code",
   "execution_count": 9,
   "metadata": {},
   "outputs": [
    {
     "data": {
      "image/png": "[encoded data removed]",
      "text/plain": [
       "<Figure size 1440x720 with 1 Axes>"
      ]
     },
     "metadata": {
      "needs_background": "light"
     },
     "output_type": "display_data"
    }
   ],
   "source": [
    "rows_added = pd.read_sql_query(SQL, conn)\n",
    "rows_added = rows_added \\\n",
    "    .rename(columns={clmn: clmn.lower() for clmn in rows_added.columns})\n",
    "rows_added = rows_added.set_index(\"date_added\")\n",
    "rows_added = rows_added.reindex(all_days)\n",
    "plt.figure(figsize=(20, 10))\n",
    "plt.bar(all_days, height=rows_added[\"rows_added\"])\n",
    "plt.show()"
   ]
  },
  {
   "cell_type": "markdown",
   "metadata": {},
   "source": [
    "It looks like `EXOPLANETS` typically updates with around 100 new entries each day. Something looks off in a few places, though. We have what we'd call a **freshness** incident -- on a couple of occasions, the table doesn't update at all for a 3 or more days. It has \"stale\" (3+ day old) data.\n",
    "\n",
    "Try writing some `SQL` code that returns timestamps for when freshness incidents occur. Feel free to use the query above as a starting point.\n",
    "\n",
    "- *Hint 1*: The `LAG` window function should help in comparing two subsequent rows in a query.\n",
    "- *Hint 2*: `SQLite` uses `JULIANDAY()` to cast an object to a date.\n",
    "- *Hint 3*: An example solution is given in `solutions/exercise_1.ipynb`, if needed for comparison."
   ]
  },
  {
   "cell_type": "code",
   "execution_count": 10,
   "metadata": {},
   "outputs": [],
   "source": [
    "# YOUR CODE HERE\n",
    "SQL = \"\"\"\n",
    "WITH RC_UPDATES AS(\n",
    "    SELECT\n",
    "        DATE_ADDED,\n",
    "        COUNT(*) AS ROWS_ADDED\n",
    "    FROM\n",
    "        EXOPLANETS\n",
    "    GROUP BY\n",
    "        DATE_ADDED\n",
    "),\n",
    "NUM_DAYS_UPDATES AS(\n",
    "    SELECT\n",
    "        DATE_ADDED,\n",
    "        JULIANDAY(DATE_ADDED) - JULIANDAY(LAG(DATE_ADDED) OVER(ORDER BY DATE_ADDED)) AS DAYS_SINCE_UPDATE\n",
    "    FROM\n",
    "        RC_UPDATES\n",
    ")\n",
    "SELECT\n",
    "    *\n",
    "FROM\n",
    "    NUM_DAYS_UPDATES\n",
    "WHERE\n",
    "    DAYS_SINCE_UPDATE > 1\n",
    "\"\"\"\n",
    "# END YOUR CODE"
   ]
  },
  {
   "cell_type": "code",
   "execution_count": 11,
   "metadata": {},
   "outputs": [
    {
     "data": {
      "text/html": [
       "<div>\n",
       "<style scoped>\n",
       "    .dataframe tbody tr th:only-of-type {\n",
       "        vertical-align: middle;\n",
       "    }\n",
       "\n",
       "    .dataframe tbody tr th {\n",
       "        vertical-align: top;\n",
       "    }\n",
       "\n",
       "    .dataframe thead th {\n",
       "        text-align: right;\n",
       "    }\n",
       "</style>\n",
       "<table border=\"1\" class=\"dataframe\">\n",
       "  <thead>\n",
       "    <tr style=\"text-align: right;\">\n",
       "      <th></th>\n",
       "      <th>date_added</th>\n",
       "      <th>days_since_update</th>\n",
       "    </tr>\n",
       "  </thead>\n",
       "  <tbody>\n",
       "    <tr>\n",
       "      <th>0</th>\n",
       "      <td>2020-02-08</td>\n",
       "      <td>8.0</td>\n",
       "    </tr>\n",
       "    <tr>\n",
       "      <th>1</th>\n",
       "      <td>2020-03-30</td>\n",
       "      <td>4.0</td>\n",
       "    </tr>\n",
       "    <tr>\n",
       "      <th>2</th>\n",
       "      <td>2020-05-14</td>\n",
       "      <td>8.0</td>\n",
       "    </tr>\n",
       "    <tr>\n",
       "      <th>3</th>\n",
       "      <td>2020-06-07</td>\n",
       "      <td>3.0</td>\n",
       "    </tr>\n",
       "    <tr>\n",
       "      <th>4</th>\n",
       "      <td>2020-06-17</td>\n",
       "      <td>5.0</td>\n",
       "    </tr>\n",
       "    <tr>\n",
       "      <th>5</th>\n",
       "      <td>2020-06-30</td>\n",
       "      <td>3.0</td>\n",
       "    </tr>\n",
       "  </tbody>\n",
       "</table>\n",
       "</div>"
      ],
      "text/plain": [
       "   date_added  days_since_update\n",
       "0  2020-02-08                8.0\n",
       "1  2020-03-30                4.0\n",
       "2  2020-05-14                8.0\n",
       "3  2020-06-07                3.0\n",
       "4  2020-06-17                5.0\n",
       "5  2020-06-30                3.0"
      ]
     },
     "execution_count": 11,
     "metadata": {},
     "output_type": "execute_result"
    }
   ],
   "source": [
    "freshness_anoms = pd.read_sql_query(SQL, conn)\n",
    "freshness_anoms = freshness_anoms \\\n",
    "    .rename(columns={clmn: clmn.lower() for clmn in freshness_anoms.columns})\n",
    "freshness_anoms"
   ]
  },
  {
   "cell_type": "markdown",
   "metadata": {},
   "source": [
    "The `show_reports` function from `utils` will help us visualize our results."
   ]
  },
  {
   "cell_type": "code",
   "execution_count": 12,
   "metadata": {},
   "outputs": [
    {
     "data": {
      "image/png": "[encoded data removed]",
      "text/plain": [
       "<Figure size 1440x720 with 1 Axes>"
      ]
     },
     "metadata": {
      "needs_background": "light"
     },
     "output_type": "display_data"
    }
   ],
   "source": [
    "show_reports(rows_added, freshness_anoms[\"date_added\"], \"rows_added\")"
   ]
  },
  {
   "cell_type": "markdown",
   "metadata": {},
   "source": [
    "## 3. Exercise: Null Rates\n",
    "\n",
    "We can also look at the rate of new `NULL` entries for different columns on a daily basis:"
   ]
  },
  {
   "cell_type": "code",
   "execution_count": 13,
   "metadata": {},
   "outputs": [],
   "source": [
    "SQL = \"\"\"\n",
    "SELECT\n",
    "    DATE_ADDED,\n",
    "    CAST(SUM(CASE WHEN DISTANCE IS NULL THEN 1 ELSE 0 END) AS FLOAT) / COUNT(*) AS DISTANCE_NULL_RATE,\n",
    "    CAST(SUM(CASE WHEN G IS NULL THEN 1 ELSE 0 END) AS FLOAT) / COUNT(*) AS G_NULL_RATE,\n",
    "    CAST(SUM(CASE WHEN ORBITAL_PERIOD IS NULL THEN 1 ELSE 0 END) AS FLOAT) / COUNT(*) AS ORBITAL_PERIOD_NULL_RATE,\n",
    "    CAST(SUM(CASE WHEN AVG_TEMP IS NULL THEN 1 ELSE 0 END) AS FLOAT) / COUNT(*) AS AVG_TEMP_NULL_RATE    \n",
    "FROM\n",
    "    EXOPLANETS\n",
    "GROUP BY\n",
    "    DATE_ADDED\n",
    "\"\"\""
   ]
  },
  {
   "cell_type": "code",
   "execution_count": 14,
   "metadata": {},
   "outputs": [],
   "source": [
    "null_rates = pd.read_sql_query(SQL, conn)\n",
    "null_rates = null_rates \\\n",
    "    .rename(columns={clmn: clmn.lower() for clmn in null_rates.columns})\n",
    "null_rates = null_rates.set_index(\"date_added\")\n",
    "null_rates = null_rates.reindex(all_days)"
   ]
  },
  {
   "cell_type": "code",
   "execution_count": 15,
   "metadata": {},
   "outputs": [
    {
     "data": {
      "image/png": "[encoded data removed]",
      "text/plain": [
       "<Figure size 1440x720 with 1 Axes>"
      ]
     },
     "metadata": {
      "needs_background": "light"
     },
     "output_type": "display_data"
    }
   ],
   "source": [
    "plt.figure(figsize=(20, 10))\n",
    "plt.bar(all_days, height=null_rates[\"distance_null_rate\"])\n",
    "plt.show()"
   ]
  },
  {
   "cell_type": "code",
   "execution_count": 16,
   "metadata": {},
   "outputs": [
    {
     "data": {
      "image/png": "[encoded data removed]",
      "text/plain": [
       "<Figure size 1440x720 with 1 Axes>"
      ]
     },
     "metadata": {
      "needs_background": "light"
     },
     "output_type": "display_data"
    }
   ],
   "source": [
    "plt.figure(figsize=(20, 10))\n",
    "plt.bar(all_days, height=null_rates[\"g_null_rate\"])\n",
    "plt.show()"
   ]
  },
  {
   "cell_type": "code",
   "execution_count": 17,
   "metadata": {},
   "outputs": [
    {
     "data": {
      "image/png": "[encoded data removed]",
      "text/plain": [
       "<Figure size 1440x720 with 1 Axes>"
      ]
     },
     "metadata": {
      "needs_background": "light"
     },
     "output_type": "display_data"
    }
   ],
   "source": [
    "plt.figure(figsize=(20, 10))\n",
    "plt.bar(all_days, height=null_rates[\"orbital_period_null_rate\"])\n",
    "plt.show()"
   ]
  },
  {
   "cell_type": "code",
   "execution_count": 18,
   "metadata": {},
   "outputs": [
    {
     "data": {
      "image/png": "[encoded data removed]",
      "text/plain": [
       "<Figure size 1440x720 with 1 Axes>"
      ]
     },
     "metadata": {
      "needs_background": "light"
     },
     "output_type": "display_data"
    }
   ],
   "source": [
    "plt.figure(figsize=(20, 10))\n",
    "plt.bar(all_days, height=null_rates[\"avg_temp_null_rate\"])\n",
    "plt.show()"
   ]
  },
  {
   "cell_type": "markdown",
   "metadata": {},
   "source": [
    "Some of the fields in the table show \"spikes\" in the rate of null values at certain times. Try to write a simple `SQL` query to identify timestamps with unusually high null rates. Again, feel free to use the query above as a starting point.\n",
    "\n",
    "- *Hint 1*: It may help to introduce a column that identifies which field (or fields) have the anomalous null rate for a given timestamp.\n",
    "- *Hint 2*: Once again, a sample solution is available in `solutions/exercise_1.ipynb`, if needed."
   ]
  },
  {
   "cell_type": "code",
   "execution_count": 19,
   "metadata": {},
   "outputs": [],
   "source": [
    "# YOUR CODE HERE\n",
    "SQL = \"\"\"\n",
    "WITH NULL_RATES AS(\n",
    "    SELECT\n",
    "        DATE_ADDED,\n",
    "        CAST(SUM(CASE WHEN DISTANCE IS NULL THEN 1 ELSE 0 END) AS FLOAT) / COUNT(*) AS DISTANCE_NULL_RATE,\n",
    "        CAST(SUM(CASE WHEN G IS NULL THEN 1 ELSE 0 END) AS FLOAT) / COUNT(*) AS G_NULL_RATE,\n",
    "        CAST(SUM(CASE WHEN ORBITAL_PERIOD IS NULL THEN 1 ELSE 0 END) AS FLOAT) / COUNT(*) AS ORBITAL_PERIOD_NULL_RATE,\n",
    "        CAST(SUM(CASE WHEN AVG_TEMP IS NULL THEN 1 ELSE 0 END) AS FLOAT) / COUNT(*) AS AVG_TEMP_NULL_RATE    \n",
    "    FROM\n",
    "        EXOPLANETS\n",
    "    GROUP BY\n",
    "        DATE_ADDED\n",
    ")\n",
    "SELECT\n",
    "    *\n",
    "FROM\n",
    "    NULL_RATES\n",
    "WHERE\n",
    "    AVG_TEMP_NULL_RATE > 0.9\n",
    "\"\"\"\n",
    "# END YOUR CODE"
   ]
  },
  {
   "cell_type": "code",
   "execution_count": 20,
   "metadata": {},
   "outputs": [
    {
     "data": {
      "text/html": [
       "<div>\n",
       "<style scoped>\n",
       "    .dataframe tbody tr th:only-of-type {\n",
       "        vertical-align: middle;\n",
       "    }\n",
       "\n",
       "    .dataframe tbody tr th {\n",
       "        vertical-align: top;\n",
       "    }\n",
       "\n",
       "    .dataframe thead th {\n",
       "        text-align: right;\n",
       "    }\n",
       "</style>\n",
       "<table border=\"1\" class=\"dataframe\">\n",
       "  <thead>\n",
       "    <tr style=\"text-align: right;\">\n",
       "      <th></th>\n",
       "      <th>date_added</th>\n",
       "      <th>distance_null_rate</th>\n",
       "      <th>g_null_rate</th>\n",
       "      <th>orbital_period_null_rate</th>\n",
       "      <th>avg_temp_null_rate</th>\n",
       "    </tr>\n",
       "  </thead>\n",
       "  <tbody>\n",
       "    <tr>\n",
       "      <th>0</th>\n",
       "      <td>2020-03-09</td>\n",
       "      <td>0.010870</td>\n",
       "      <td>0.119565</td>\n",
       "      <td>0.978261</td>\n",
       "      <td>0.967391</td>\n",
       "    </tr>\n",
       "    <tr>\n",
       "      <th>1</th>\n",
       "      <td>2020-06-02</td>\n",
       "      <td>0.058824</td>\n",
       "      <td>0.976471</td>\n",
       "      <td>0.211765</td>\n",
       "      <td>0.929412</td>\n",
       "    </tr>\n",
       "    <tr>\n",
       "      <th>2</th>\n",
       "      <td>2020-06-03</td>\n",
       "      <td>0.080460</td>\n",
       "      <td>0.931034</td>\n",
       "      <td>0.275862</td>\n",
       "      <td>0.977011</td>\n",
       "    </tr>\n",
       "    <tr>\n",
       "      <th>3</th>\n",
       "      <td>2020-06-04</td>\n",
       "      <td>0.051546</td>\n",
       "      <td>0.927835</td>\n",
       "      <td>0.350515</td>\n",
       "      <td>0.989691</td>\n",
       "    </tr>\n",
       "    <tr>\n",
       "      <th>4</th>\n",
       "      <td>2020-06-07</td>\n",
       "      <td>0.036585</td>\n",
       "      <td>0.975610</td>\n",
       "      <td>0.280488</td>\n",
       "      <td>0.987805</td>\n",
       "    </tr>\n",
       "    <tr>\n",
       "      <th>5</th>\n",
       "      <td>2020-06-08</td>\n",
       "      <td>0.104762</td>\n",
       "      <td>0.961905</td>\n",
       "      <td>0.219048</td>\n",
       "      <td>0.961905</td>\n",
       "    </tr>\n",
       "  </tbody>\n",
       "</table>\n",
       "</div>"
      ],
      "text/plain": [
       "   date_added  distance_null_rate  g_null_rate  orbital_period_null_rate  \\\n",
       "0  2020-03-09            0.010870     0.119565                  0.978261   \n",
       "1  2020-06-02            0.058824     0.976471                  0.211765   \n",
       "2  2020-06-03            0.080460     0.931034                  0.275862   \n",
       "3  2020-06-04            0.051546     0.927835                  0.350515   \n",
       "4  2020-06-07            0.036585     0.975610                  0.280488   \n",
       "5  2020-06-08            0.104762     0.961905                  0.219048   \n",
       "\n",
       "   avg_temp_null_rate  \n",
       "0            0.967391  \n",
       "1            0.929412  \n",
       "2            0.977011  \n",
       "3            0.989691  \n",
       "4            0.987805  \n",
       "5            0.961905  "
      ]
     },
     "execution_count": 20,
     "metadata": {},
     "output_type": "execute_result"
    }
   ],
   "source": [
    "null_rate_anoms = pd.read_sql_query(SQL, conn)\n",
    "null_rate_anoms = null_rate_anoms \\\n",
    "    .rename(columns={clmn: clmn.lower() for clmn in null_rate_anoms.columns})\n",
    "null_rate_anoms"
   ]
  },
  {
   "cell_type": "markdown",
   "metadata": {},
   "source": [
    "Once again, we'll use the `show_reports` function to visualize the results of our query. Feel free to continue running the above and below cells until you're happy with the reports!"
   ]
  },
  {
   "cell_type": "code",
   "execution_count": 21,
   "metadata": {},
   "outputs": [
    {
     "data": {
      "image/png": "[encoded data removed]",
      "text/plain": [
       "<Figure size 1440x720 with 1 Axes>"
      ]
     },
     "metadata": {
      "needs_background": "light"
     },
     "output_type": "display_data"
    }
   ],
   "source": [
    "show_reports(null_rates, null_rate_anoms[\"date_added\"], \"avg_temp_null_rate\")"
   ]
  },
  {
   "cell_type": "markdown",
   "metadata": {},
   "source": [
    "Great work! In the next exercise, we'll build off of these simpler reports to handle scenarios with multiple tables and lineage information."
   ]
  },
  {
   "cell_type": "code",
   "execution_count": null,
   "metadata": {},
   "outputs": [],
   "source": []
  }
 ],
 "metadata": {
  "kernelspec": {
   "display_name": "Python 3",
   "language": "python",
   "name": "python3"
  },
  "language_info": {
   "codemirror_mode": {
    "name": "ipython",
    "version": 3
   },
   "file_extension": ".py",
   "mimetype": "text/x-python",
   "name": "python",
   "nbconvert_exporter": "python",
   "pygments_lexer": "ipython3",
   "version": "3.7.5"
  }
 },
 "nbformat": 4,
 "nbformat_minor": 4
}
